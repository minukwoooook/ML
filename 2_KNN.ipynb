{
 "cells": [
  {
   "cell_type": "markdown",
   "metadata": {},
   "source": [
    "# 지도학습\n",
    "\n",
    "- 지도학습이란 입력,출력 샘플 데이터가 존재. 입력으로부터 출력을 예측하고자 할 때 사용\n",
    "- 분류(classification)과 회귀(regression)가 존재\n",
    "\n",
    "1) 분류\n",
    "- 분류란 미리 정의된 클래스 레이블(class label) 중에서 하나를 예측하는 것.\n",
    "- 이진분류와 다중분류 존재\n",
    "- 이진분류 예) 스펨메일 분류 , 다중분류 예) 붓꽃분류\n",
    "\n",
    "2) 회귀(regression)\n",
    "- 연속적인 숫자(실수)를 예측하는 것.\n",
    "- 예) 교육수준, 나이, 주거지를 바탕으로 연간 소득 예측하기"
   ]
  },
  {
   "cell_type": "markdown",
   "metadata": {},
   "source": [
    "일반화(generalization) - 모델이 처음 보는 데이터에 대해 정확하게 예측한다면 training set에서 test set으로 일반화 되었다고 함.\n",
    "\n",
    "과대적합(overfitting) - 가진 정보를 모두 활용하여 너무 복잡하게 모델을 만듬\n",
    "\n",
    "\n",
    "과소적합(underfitting) - 너무 간단한 모델"
   ]
  },
  {
   "cell_type": "markdown",
   "metadata": {},
   "source": [
    "# 예제 데이터셋 구축"
   ]
  },
  {
   "cell_type": "code",
   "execution_count": 1,
   "metadata": {},
   "outputs": [],
   "source": [
    "from IPython.display import display\n",
    "import mglearn\n",
    "import matplotlib.pyplot as plt\n",
    "import pandas as pd\n",
    "import numpy as np"
   ]
  },
  {
   "cell_type": "code",
   "execution_count": 2,
   "metadata": {},
   "outputs": [
    {
     "name": "stderr",
     "output_type": "stream",
     "text": [
      "C:\\Users\\minuk\\Anaconda3\\lib\\site-packages\\sklearn\\utils\\deprecation.py:85: DeprecationWarning: Function make_blobs is deprecated; Please import make_blobs directly from scikit-learn\n",
      "  warnings.warn(msg, category=DeprecationWarning)\n"
     ]
    }
   ],
   "source": [
    "# forge dataset은 이진 분류 데이터셋\n",
    "X,y = mglearn.datasets.make_forge()"
   ]
  },
  {
   "cell_type": "code",
   "execution_count": 7,
   "metadata": {
    "scrolled": true
   },
   "outputs": [
    {
     "name": "stdout",
     "output_type": "stream",
     "text": [
      "shape of X: (26, 2)\n",
      "X Data: [[ 9.96346605  4.59676542]\n",
      " [11.0329545  -0.16816717]\n",
      " [11.54155807  5.21116083]\n",
      " [ 8.69289001  1.54322016]\n",
      " [ 8.1062269   4.28695977]\n",
      " [ 8.30988863  4.80623966]\n",
      " [11.93027136  4.64866327]\n",
      " [ 9.67284681 -0.20283165]\n",
      " [ 8.34810316  5.13415623]\n",
      " [ 8.67494727  4.47573059]\n",
      " [ 9.17748385  5.09283177]\n",
      " [10.24028948  2.45544401]\n",
      " [ 8.68937095  1.48709629]\n",
      " [ 8.92229526 -0.63993225]\n",
      " [ 9.49123469  4.33224792]\n",
      " [ 9.25694192  5.13284858]\n",
      " [ 7.99815287  4.8525051 ]\n",
      " [ 8.18378052  1.29564214]\n",
      " [ 8.7337095   2.49162431]\n",
      " [ 9.32298256  5.09840649]\n",
      " [10.06393839  0.99078055]\n",
      " [ 9.50048972 -0.26430318]\n",
      " [ 8.34468785  1.63824349]\n",
      " [ 9.50169345  1.93824624]\n",
      " [ 9.15072323  5.49832246]\n",
      " [11.563957    1.3389402 ]]\n",
      "shape of y: (26,)\n",
      "y Data: [1 0 1 0 0 1 1 0 1 1 1 1 0 0 1 1 1 0 0 1 0 0 0 0 1 0]\n"
     ]
    }
   ],
   "source": [
    "print(\"shape of X:\",X.shape)\n",
    "print(\"X Data:\",X)\n",
    "print(\"shape of y:\",y.shape)\n",
    "print(\"y Data:\",y)"
   ]
  },
  {
   "cell_type": "code",
   "execution_count": 13,
   "metadata": {},
   "outputs": [
    {
     "data": {
      "text/plain": [
       "Text(0, 0.5, 'Second feature')"
      ]
     },
     "execution_count": 13,
     "metadata": {},
     "output_type": "execute_result"
    },
    {
     "data": {
      "image/png": "[encoded data removed]",
      "text/plain": [
       "<Figure size 432x288 with 1 Axes>"
      ]
     },
     "metadata": {
      "needs_background": "light"
     },
     "output_type": "display_data"
    }
   ],
   "source": [
    "mglearn.discrete_scatter(X[:,0],X[:,1],y)\n",
    "plt.legend([\"class 0\",\"class 1\"],loc='best')\n",
    "plt.xlabel(\"First feature\")\n",
    "plt.ylabel(\"Second feature\")"
   ]
  },
  {
   "cell_type": "code",
   "execution_count": 14,
   "metadata": {},
   "outputs": [
    {
     "data": {
      "text/plain": [
       "Text(0, 0.5, 'target')"
      ]
     },
     "execution_count": 14,
     "metadata": {},
     "output_type": "execute_result"
    },
    {
     "data": {
      "image/png": "[encoded data removed]",
      "text/plain": [
       "<Figure size 432x288 with 1 Axes>"
      ]
     },
     "metadata": {
      "needs_background": "light"
     },
     "output_type": "display_data"
    }
   ],
   "source": [
    "#wave dataset - regression에 사용\n",
    "X, y = mglearn.datasets.make_wave(n_samples=40)\n",
    "plt.plot(X,y,'o')\n",
    "plt.ylim(-3,3)\n",
    "plt.xlabel(\"feature\")\n",
    "plt.ylabel(\"target\")"
   ]
  },
  {
   "cell_type": "code",
   "execution_count": 15,
   "metadata": {},
   "outputs": [
    {
     "name": "stdout",
     "output_type": "stream",
     "text": [
      "cancer.keys():\n",
      " dict_keys(['data', 'target', 'target_names', 'DESCR', 'feature_names', 'filename'])\n"
     ]
    }
   ],
   "source": [
    "#실제 dataset - 위스콘신 유방암 데이터셋\n",
    "from sklearn.datasets import load_breast_cancer\n",
    "cancer = load_breast_cancer()\n",
    "print(\"cancer.keys():\\n\",cancer.keys())"
   ]
  },
  {
   "cell_type": "code",
   "execution_count": 17,
   "metadata": {},
   "outputs": [
    {
     "name": "stdout",
     "output_type": "stream",
     "text": [
      "(569, 30)\n"
     ]
    }
   ],
   "source": [
    "#569개 sample(data point), 30개 feature\n",
    "print(cancer['data'].shape)"
   ]
  },
  {
   "cell_type": "code",
   "execution_count": 19,
   "metadata": {},
   "outputs": [
    {
     "name": "stdout",
     "output_type": "stream",
     "text": [
      "['malignant' 'benign']\n",
      "[0 0 0 0 0 0 0 0 0 0 0 0 0 0 0 0 0 0 0 1 1 1 0 0 0 0 0 0 0 0 0 0 0 0 0 0 0\n",
      " 1 0 0 0 0 0 0 0 0 1 0 1 1 1 1 1 0 0 1 0 0 1 1 1 1 0 1 0 0 1 1 1 1 0 1 0 0\n",
      " 1 0 1 0 0 1 1 1 0 0 1 0 0 0 1 1 1 0 1 1 0 0 1 1 1 0 0 1 1 1 1 0 1 1 0 1 1\n",
      " 1 1 1 1 1 1 0 0 0 1 0 0 1 1 1 0 0 1 0 1 0 0 1 0 0 1 1 0 1 1 0 1 1 1 1 0 1\n",
      " 1 1 1 1 1 1 1 1 0 1 1 1 1 0 0 1 0 1 1 0 0 1 1 0 0 1 1 1 1 0 1 1 0 0 0 1 0\n",
      " 1 0 1 1 1 0 1 1 0 0 1 0 0 0 0 1 0 0 0 1 0 1 0 1 1 0 1 0 0 0 0 1 1 0 0 1 1\n",
      " 1 0 1 1 1 1 1 0 0 1 1 0 1 1 0 0 1 0 1 1 1 1 0 1 1 1 1 1 0 1 0 0 0 0 0 0 0\n",
      " 0 0 0 0 0 0 0 1 1 1 1 1 1 0 1 0 1 1 0 1 1 0 1 0 0 1 1 1 1 1 1 1 1 1 1 1 1\n",
      " 1 0 1 1 0 1 0 1 1 1 1 1 1 1 1 1 1 1 1 1 1 0 1 1 1 0 1 0 1 1 1 1 0 0 0 1 1\n",
      " 1 1 0 1 0 1 0 1 1 1 0 1 1 1 1 1 1 1 0 0 0 1 1 1 1 1 1 1 1 1 1 1 0 0 1 0 0\n",
      " 0 1 0 0 1 1 1 1 1 0 1 1 1 1 1 0 1 1 1 0 1 1 0 0 1 1 1 1 1 1 0 1 1 1 1 1 1\n",
      " 1 0 1 1 1 1 1 0 1 1 0 1 1 1 1 1 1 1 1 1 1 1 1 0 1 0 0 1 0 1 1 1 1 1 0 1 1\n",
      " 0 1 0 1 1 0 1 0 1 1 1 1 1 1 1 1 0 0 1 1 1 1 1 1 0 1 1 1 1 1 1 1 1 1 1 0 1\n",
      " 1 1 1 1 1 1 0 1 0 1 1 0 1 1 1 1 1 0 0 1 0 1 0 1 1 1 1 1 0 1 1 0 1 0 1 0 0\n",
      " 1 1 1 0 1 1 1 1 1 1 1 1 1 1 1 0 1 0 0 1 1 1 1 1 1 1 1 1 1 1 1 1 1 1 1 1 1\n",
      " 1 1 1 1 1 1 1 0 0 0 0 0 0 1]\n"
     ]
    }
   ],
   "source": [
    "print(cancer['target_names'])\n",
    "print(cancer.target)"
   ]
  },
  {
   "cell_type": "code",
   "execution_count": 20,
   "metadata": {},
   "outputs": [
    {
     "name": "stdout",
     "output_type": "stream",
     "text": [
      "(506, 13)\n"
     ]
    }
   ],
   "source": [
    "#실제 dataset2 - 보스턴 주태가격\n",
    "from sklearn.datasets import load_boston\n",
    "boston = load_boston()\n",
    "print(boston.data.shape)"
   ]
  },
  {
   "cell_type": "markdown",
   "metadata": {},
   "source": [
    "# K-Nearest Neighbors\n",
    "1) Classification"
   ]
  },
  {
   "cell_type": "code",
   "execution_count": 23,
   "metadata": {},
   "outputs": [
    {
     "name": "stderr",
     "output_type": "stream",
     "text": [
      "C:\\Users\\minuk\\Anaconda3\\lib\\site-packages\\sklearn\\utils\\deprecation.py:85: DeprecationWarning: Function make_blobs is deprecated; Please import make_blobs directly from scikit-learn\n",
      "  warnings.warn(msg, category=DeprecationWarning)\n"
     ]
    },
    {
     "data": {
      "text/plain": [
       "KNeighborsClassifier(algorithm='auto', leaf_size=30, metric='minkowski',\n",
       "                     metric_params=None, n_jobs=None, n_neighbors=3, p=2,\n",
       "                     weights='uniform')"
      ]
     },
     "execution_count": 23,
     "metadata": {},
     "output_type": "execute_result"
    }
   ],
   "source": [
    "from sklearn.model_selection import train_test_split\n",
    "X, y = mglearn.datasets.make_forge()\n",
    "X_train, X_test, y_train, y_test = train_test_split(X,y,random_state=0)\n",
    "from sklearn.neighbors import KNeighborsClassifier\n",
    "clf = KNeighborsClassifier(n_neighbors=3)\n",
    "clf.fit(X_train,y_train)"
   ]
  },
  {
   "cell_type": "code",
   "execution_count": 24,
   "metadata": {},
   "outputs": [
    {
     "data": {
      "text/plain": [
       "array([1, 0, 1, 0, 1, 0, 0])"
      ]
     },
     "execution_count": 24,
     "metadata": {},
     "output_type": "execute_result"
    }
   ],
   "source": [
    "clf.predict(X_test)"
   ]
  },
  {
   "cell_type": "code",
   "execution_count": 25,
   "metadata": {},
   "outputs": [
    {
     "data": {
      "text/plain": [
       "0.8571428571428571"
      ]
     },
     "execution_count": 25,
     "metadata": {},
     "output_type": "execute_result"
    }
   ],
   "source": [
    "clf.score(X_test,y_test)"
   ]
  },
  {
   "cell_type": "code",
   "execution_count": 37,
   "metadata": {},
   "outputs": [
    {
     "data": {
      "text/plain": [
       "<matplotlib.legend.Legend at 0x258b2551710>"
      ]
     },
     "execution_count": 37,
     "metadata": {},
     "output_type": "execute_result"
    },
    {
     "data": {
      "image/png": "[encoded data removed]",
      "text/plain": [
       "<Figure size 720x216 with 3 Axes>"
      ]
     },
     "metadata": {},
     "output_type": "display_data"
    }
   ],
   "source": [
    "fig, axes = plt.subplots(1,3,figsize=(10,3))\n",
    "for n_neighbors, ax in zip([1,3,9],axes):\n",
    "    clf = KNeighborsClassifier(n_neighbors=n_neighbors).fit(X,y)\n",
    "    mglearn.plots.plot_2d_separator(clf,X,fill=True,eps=0.5,ax=ax,alpha=.4)\n",
    "    mglearn.discrete_scatter(X[:,0],X[:,1],y, ax=ax)\n",
    "    ax.set_title(\"{} neighbor\".format(n_neighbors))\n",
    "    ax.set_xlabel(\"feature 0\")\n",
    "    ax.set_ylabel(\"feature 1\")\n",
    "axes[0].legend(loc='best')"
   ]
  },
  {
   "cell_type": "code",
   "execution_count": 39,
   "metadata": {},
   "outputs": [],
   "source": [
    "# 실전 예제로 test\n",
    "from sklearn.datasets import load_breast_cancer\n",
    "from sklearn.model_selection import train_test_split\n",
    "\n",
    "cancer = load_breast_cancer()\n",
    "X_train, X_test, y_train, y_test = train_test_split(cancer.data,cancer.target, stratify=cancer.target, random_state=66)\n",
    "#stratify=cancer.target은 나누어진 dataset의 target비율을 cancer.target비율에 맞추겠다는 의미\n",
    "#예를들어 cancer.target의 0,1비율이 25% 75%면 나누어진 dataset에서도 비율이 25% 75%가 되도록\n",
    "training_accuracy = []\n",
    "test_accuracy = []\n",
    "neighbors_setting = range(1,11)\n",
    "for n_neighbors in neighbors_setting:\n",
    "    clf = KNeighborsClassifier(n_neighbors=n_neighbors)\n",
    "    clf.fit(X_train,y_train)\n",
    "    training_accuracy.append(clf.score(X_train,y_train))\n",
    "    test_accuracy.append(clf.score(X_test,y_test))"
   ]
  },
  {
   "cell_type": "code",
   "execution_count": 41,
   "metadata": {},
   "outputs": [
    {
     "data": {
      "image/png": "[encoded data removed]",
      "text/plain": [
       "<Figure size 432x288 with 1 Axes>"
      ]
     },
     "metadata": {
      "needs_background": "light"
     },
     "output_type": "display_data"
    }
   ],
   "source": [
    "plt.plot(neighbors_setting,training_accuracy, label='train accuracy')\n",
    "plt.plot(neighbors_setting, test_accuracy, label='test accuracy')\n",
    "plt.ylabel('Accuracy')\n",
    "plt.legend(loc='best')\n",
    "plt.show()"
   ]
  },
  {
   "cell_type": "markdown",
   "metadata": {},
   "source": [
    "# K-Nearest Neighbors\n",
    "2) Regression\n",
    "\n",
    "- 중요한 매개변수는 2가지 : 1) "
   ]
  },
  {
   "cell_type": "code",
   "execution_count": 15,
   "metadata": {},
   "outputs": [
    {
     "data": {
      "text/plain": [
       "array([-3.        , -2.99399399, -2.98798799, -2.98198198, -2.97597598,\n",
       "       -2.96996997, -2.96396396, -2.95795796, -2.95195195, -2.94594595,\n",
       "       -2.93993994, -2.93393393, -2.92792793, -2.92192192, -2.91591592,\n",
       "       -2.90990991, -2.9039039 , -2.8978979 , -2.89189189, -2.88588589,\n",
       "       -2.87987988, -2.87387387, -2.86786787, -2.86186186, -2.85585586,\n",
       "       -2.84984985, -2.84384384, -2.83783784, -2.83183183, -2.82582583,\n",
       "       -2.81981982, -2.81381381, -2.80780781, -2.8018018 , -2.7957958 ,\n",
       "       -2.78978979, -2.78378378, -2.77777778, -2.77177177, -2.76576577,\n",
       "       -2.75975976, -2.75375375, -2.74774775, -2.74174174, -2.73573574,\n",
       "       -2.72972973, -2.72372372, -2.71771772, -2.71171171, -2.70570571,\n",
       "       -2.6996997 , -2.69369369, -2.68768769, -2.68168168, -2.67567568,\n",
       "       -2.66966967, -2.66366366, -2.65765766, -2.65165165, -2.64564565,\n",
       "       -2.63963964, -2.63363363, -2.62762763, -2.62162162, -2.61561562,\n",
       "       -2.60960961, -2.6036036 , -2.5975976 , -2.59159159, -2.58558559,\n",
       "       -2.57957958, -2.57357357, -2.56756757, -2.56156156, -2.55555556,\n",
       "       -2.54954955, -2.54354354, -2.53753754, -2.53153153, -2.52552553,\n",
       "       -2.51951952, -2.51351351, -2.50750751, -2.5015015 , -2.4954955 ,\n",
       "       -2.48948949, -2.48348348, -2.47747748, -2.47147147, -2.46546547,\n",
       "       -2.45945946, -2.45345345, -2.44744745, -2.44144144, -2.43543544,\n",
       "       -2.42942943, -2.42342342, -2.41741742, -2.41141141, -2.40540541,\n",
       "       -2.3993994 , -2.39339339, -2.38738739, -2.38138138, -2.37537538,\n",
       "       -2.36936937, -2.36336336, -2.35735736, -2.35135135, -2.34534535,\n",
       "       -2.33933934, -2.33333333, -2.32732733, -2.32132132, -2.31531532,\n",
       "       -2.30930931, -2.3033033 , -2.2972973 , -2.29129129, -2.28528529,\n",
       "       -2.27927928, -2.27327327, -2.26726727, -2.26126126, -2.25525526,\n",
       "       -2.24924925, -2.24324324, -2.23723724, -2.23123123, -2.22522523,\n",
       "       -2.21921922, -2.21321321, -2.20720721, -2.2012012 , -2.1951952 ,\n",
       "       -2.18918919, -2.18318318, -2.17717718, -2.17117117, -2.16516517,\n",
       "       -2.15915916, -2.15315315, -2.14714715, -2.14114114, -2.13513514,\n",
       "       -2.12912913, -2.12312312, -2.11711712, -2.11111111, -2.10510511,\n",
       "       -2.0990991 , -2.09309309, -2.08708709, -2.08108108, -2.07507508,\n",
       "       -2.06906907, -2.06306306, -2.05705706, -2.05105105, -2.04504505,\n",
       "       -2.03903904, -2.03303303, -2.02702703, -2.02102102, -2.01501502,\n",
       "       -2.00900901, -2.003003  , -1.996997  , -1.99099099, -1.98498498,\n",
       "       -1.97897898, -1.97297297, -1.96696697, -1.96096096, -1.95495495,\n",
       "       -1.94894895, -1.94294294, -1.93693694, -1.93093093, -1.92492492,\n",
       "       -1.91891892, -1.91291291, -1.90690691, -1.9009009 , -1.89489489,\n",
       "       -1.88888889, -1.88288288, -1.87687688, -1.87087087, -1.86486486,\n",
       "       -1.85885886, -1.85285285, -1.84684685, -1.84084084, -1.83483483,\n",
       "       -1.82882883, -1.82282282, -1.81681682, -1.81081081, -1.8048048 ,\n",
       "       -1.7987988 , -1.79279279, -1.78678679, -1.78078078, -1.77477477,\n",
       "       -1.76876877, -1.76276276, -1.75675676, -1.75075075, -1.74474474,\n",
       "       -1.73873874, -1.73273273, -1.72672673, -1.72072072, -1.71471471,\n",
       "       -1.70870871, -1.7027027 , -1.6966967 , -1.69069069, -1.68468468,\n",
       "       -1.67867868, -1.67267267, -1.66666667, -1.66066066, -1.65465465,\n",
       "       -1.64864865, -1.64264264, -1.63663664, -1.63063063, -1.62462462,\n",
       "       -1.61861862, -1.61261261, -1.60660661, -1.6006006 , -1.59459459,\n",
       "       -1.58858859, -1.58258258, -1.57657658, -1.57057057, -1.56456456,\n",
       "       -1.55855856, -1.55255255, -1.54654655, -1.54054054, -1.53453453,\n",
       "       -1.52852853, -1.52252252, -1.51651652, -1.51051051, -1.5045045 ,\n",
       "       -1.4984985 , -1.49249249, -1.48648649, -1.48048048, -1.47447447,\n",
       "       -1.46846847, -1.46246246, -1.45645646, -1.45045045, -1.44444444,\n",
       "       -1.43843844, -1.43243243, -1.42642643, -1.42042042, -1.41441441,\n",
       "       -1.40840841, -1.4024024 , -1.3963964 , -1.39039039, -1.38438438,\n",
       "       -1.37837838, -1.37237237, -1.36636637, -1.36036036, -1.35435435,\n",
       "       -1.34834835, -1.34234234, -1.33633634, -1.33033033, -1.32432432,\n",
       "       -1.31831832, -1.31231231, -1.30630631, -1.3003003 , -1.29429429,\n",
       "       -1.28828829, -1.28228228, -1.27627628, -1.27027027, -1.26426426,\n",
       "       -1.25825826, -1.25225225, -1.24624625, -1.24024024, -1.23423423,\n",
       "       -1.22822823, -1.22222222, -1.21621622, -1.21021021, -1.2042042 ,\n",
       "       -1.1981982 , -1.19219219, -1.18618619, -1.18018018, -1.17417417,\n",
       "       -1.16816817, -1.16216216, -1.15615616, -1.15015015, -1.14414414,\n",
       "       -1.13813814, -1.13213213, -1.12612613, -1.12012012, -1.11411411,\n",
       "       -1.10810811, -1.1021021 , -1.0960961 , -1.09009009, -1.08408408,\n",
       "       -1.07807808, -1.07207207, -1.06606607, -1.06006006, -1.05405405,\n",
       "       -1.04804805, -1.04204204, -1.03603604, -1.03003003, -1.02402402,\n",
       "       -1.01801802, -1.01201201, -1.00600601, -1.        , -0.99399399,\n",
       "       -0.98798799, -0.98198198, -0.97597598, -0.96996997, -0.96396396,\n",
       "       -0.95795796, -0.95195195, -0.94594595, -0.93993994, -0.93393393,\n",
       "       -0.92792793, -0.92192192, -0.91591592, -0.90990991, -0.9039039 ,\n",
       "       -0.8978979 , -0.89189189, -0.88588589, -0.87987988, -0.87387387,\n",
       "       -0.86786787, -0.86186186, -0.85585586, -0.84984985, -0.84384384,\n",
       "       -0.83783784, -0.83183183, -0.82582583, -0.81981982, -0.81381381,\n",
       "       -0.80780781, -0.8018018 , -0.7957958 , -0.78978979, -0.78378378,\n",
       "       -0.77777778, -0.77177177, -0.76576577, -0.75975976, -0.75375375,\n",
       "       -0.74774775, -0.74174174, -0.73573574, -0.72972973, -0.72372372,\n",
       "       -0.71771772, -0.71171171, -0.70570571, -0.6996997 , -0.69369369,\n",
       "       -0.68768769, -0.68168168, -0.67567568, -0.66966967, -0.66366366,\n",
       "       -0.65765766, -0.65165165, -0.64564565, -0.63963964, -0.63363363,\n",
       "       -0.62762763, -0.62162162, -0.61561562, -0.60960961, -0.6036036 ,\n",
       "       -0.5975976 , -0.59159159, -0.58558559, -0.57957958, -0.57357357,\n",
       "       -0.56756757, -0.56156156, -0.55555556, -0.54954955, -0.54354354,\n",
       "       -0.53753754, -0.53153153, -0.52552553, -0.51951952, -0.51351351,\n",
       "       -0.50750751, -0.5015015 , -0.4954955 , -0.48948949, -0.48348348,\n",
       "       -0.47747748, -0.47147147, -0.46546547, -0.45945946, -0.45345345,\n",
       "       -0.44744745, -0.44144144, -0.43543544, -0.42942943, -0.42342342,\n",
       "       -0.41741742, -0.41141141, -0.40540541, -0.3993994 , -0.39339339,\n",
       "       -0.38738739, -0.38138138, -0.37537538, -0.36936937, -0.36336336,\n",
       "       -0.35735736, -0.35135135, -0.34534535, -0.33933934, -0.33333333,\n",
       "       -0.32732733, -0.32132132, -0.31531532, -0.30930931, -0.3033033 ,\n",
       "       -0.2972973 , -0.29129129, -0.28528529, -0.27927928, -0.27327327,\n",
       "       -0.26726727, -0.26126126, -0.25525526, -0.24924925, -0.24324324,\n",
       "       -0.23723724, -0.23123123, -0.22522523, -0.21921922, -0.21321321,\n",
       "       -0.20720721, -0.2012012 , -0.1951952 , -0.18918919, -0.18318318,\n",
       "       -0.17717718, -0.17117117, -0.16516517, -0.15915916, -0.15315315,\n",
       "       -0.14714715, -0.14114114, -0.13513514, -0.12912913, -0.12312312,\n",
       "       -0.11711712, -0.11111111, -0.10510511, -0.0990991 , -0.09309309,\n",
       "       -0.08708709, -0.08108108, -0.07507508, -0.06906907, -0.06306306,\n",
       "       -0.05705706, -0.05105105, -0.04504505, -0.03903904, -0.03303303,\n",
       "       -0.02702703, -0.02102102, -0.01501502, -0.00900901, -0.003003  ,\n",
       "        0.003003  ,  0.00900901,  0.01501502,  0.02102102,  0.02702703,\n",
       "        0.03303303,  0.03903904,  0.04504505,  0.05105105,  0.05705706,\n",
       "        0.06306306,  0.06906907,  0.07507508,  0.08108108,  0.08708709,\n",
       "        0.09309309,  0.0990991 ,  0.10510511,  0.11111111,  0.11711712,\n",
       "        0.12312312,  0.12912913,  0.13513514,  0.14114114,  0.14714715,\n",
       "        0.15315315,  0.15915916,  0.16516517,  0.17117117,  0.17717718,\n",
       "        0.18318318,  0.18918919,  0.1951952 ,  0.2012012 ,  0.20720721,\n",
       "        0.21321321,  0.21921922,  0.22522523,  0.23123123,  0.23723724,\n",
       "        0.24324324,  0.24924925,  0.25525526,  0.26126126,  0.26726727,\n",
       "        0.27327327,  0.27927928,  0.28528529,  0.29129129,  0.2972973 ,\n",
       "        0.3033033 ,  0.30930931,  0.31531532,  0.32132132,  0.32732733,\n",
       "        0.33333333,  0.33933934,  0.34534535,  0.35135135,  0.35735736,\n",
       "        0.36336336,  0.36936937,  0.37537538,  0.38138138,  0.38738739,\n",
       "        0.39339339,  0.3993994 ,  0.40540541,  0.41141141,  0.41741742,\n",
       "        0.42342342,  0.42942943,  0.43543544,  0.44144144,  0.44744745,\n",
       "        0.45345345,  0.45945946,  0.46546547,  0.47147147,  0.47747748,\n",
       "        0.48348348,  0.48948949,  0.4954955 ,  0.5015015 ,  0.50750751,\n",
       "        0.51351351,  0.51951952,  0.52552553,  0.53153153,  0.53753754,\n",
       "        0.54354354,  0.54954955,  0.55555556,  0.56156156,  0.56756757,\n",
       "        0.57357357,  0.57957958,  0.58558559,  0.59159159,  0.5975976 ,\n",
       "        0.6036036 ,  0.60960961,  0.61561562,  0.62162162,  0.62762763,\n",
       "        0.63363363,  0.63963964,  0.64564565,  0.65165165,  0.65765766,\n",
       "        0.66366366,  0.66966967,  0.67567568,  0.68168168,  0.68768769,\n",
       "        0.69369369,  0.6996997 ,  0.70570571,  0.71171171,  0.71771772,\n",
       "        0.72372372,  0.72972973,  0.73573574,  0.74174174,  0.74774775,\n",
       "        0.75375375,  0.75975976,  0.76576577,  0.77177177,  0.77777778,\n",
       "        0.78378378,  0.78978979,  0.7957958 ,  0.8018018 ,  0.80780781,\n",
       "        0.81381381,  0.81981982,  0.82582583,  0.83183183,  0.83783784,\n",
       "        0.84384384,  0.84984985,  0.85585586,  0.86186186,  0.86786787,\n",
       "        0.87387387,  0.87987988,  0.88588589,  0.89189189,  0.8978979 ,\n",
       "        0.9039039 ,  0.90990991,  0.91591592,  0.92192192,  0.92792793,\n",
       "        0.93393393,  0.93993994,  0.94594595,  0.95195195,  0.95795796,\n",
       "        0.96396396,  0.96996997,  0.97597598,  0.98198198,  0.98798799,\n",
       "        0.99399399,  1.        ,  1.00600601,  1.01201201,  1.01801802,\n",
       "        1.02402402,  1.03003003,  1.03603604,  1.04204204,  1.04804805,\n",
       "        1.05405405,  1.06006006,  1.06606607,  1.07207207,  1.07807808,\n",
       "        1.08408408,  1.09009009,  1.0960961 ,  1.1021021 ,  1.10810811,\n",
       "        1.11411411,  1.12012012,  1.12612613,  1.13213213,  1.13813814,\n",
       "        1.14414414,  1.15015015,  1.15615616,  1.16216216,  1.16816817,\n",
       "        1.17417417,  1.18018018,  1.18618619,  1.19219219,  1.1981982 ,\n",
       "        1.2042042 ,  1.21021021,  1.21621622,  1.22222222,  1.22822823,\n",
       "        1.23423423,  1.24024024,  1.24624625,  1.25225225,  1.25825826,\n",
       "        1.26426426,  1.27027027,  1.27627628,  1.28228228,  1.28828829,\n",
       "        1.29429429,  1.3003003 ,  1.30630631,  1.31231231,  1.31831832,\n",
       "        1.32432432,  1.33033033,  1.33633634,  1.34234234,  1.34834835,\n",
       "        1.35435435,  1.36036036,  1.36636637,  1.37237237,  1.37837838,\n",
       "        1.38438438,  1.39039039,  1.3963964 ,  1.4024024 ,  1.40840841,\n",
       "        1.41441441,  1.42042042,  1.42642643,  1.43243243,  1.43843844,\n",
       "        1.44444444,  1.45045045,  1.45645646,  1.46246246,  1.46846847,\n",
       "        1.47447447,  1.48048048,  1.48648649,  1.49249249,  1.4984985 ,\n",
       "        1.5045045 ,  1.51051051,  1.51651652,  1.52252252,  1.52852853,\n",
       "        1.53453453,  1.54054054,  1.54654655,  1.55255255,  1.55855856,\n",
       "        1.56456456,  1.57057057,  1.57657658,  1.58258258,  1.58858859,\n",
       "        1.59459459,  1.6006006 ,  1.60660661,  1.61261261,  1.61861862,\n",
       "        1.62462462,  1.63063063,  1.63663664,  1.64264264,  1.64864865,\n",
       "        1.65465465,  1.66066066,  1.66666667,  1.67267267,  1.67867868,\n",
       "        1.68468468,  1.69069069,  1.6966967 ,  1.7027027 ,  1.70870871,\n",
       "        1.71471471,  1.72072072,  1.72672673,  1.73273273,  1.73873874,\n",
       "        1.74474474,  1.75075075,  1.75675676,  1.76276276,  1.76876877,\n",
       "        1.77477477,  1.78078078,  1.78678679,  1.79279279,  1.7987988 ,\n",
       "        1.8048048 ,  1.81081081,  1.81681682,  1.82282282,  1.82882883,\n",
       "        1.83483483,  1.84084084,  1.84684685,  1.85285285,  1.85885886,\n",
       "        1.86486486,  1.87087087,  1.87687688,  1.88288288,  1.88888889,\n",
       "        1.89489489,  1.9009009 ,  1.90690691,  1.91291291,  1.91891892,\n",
       "        1.92492492,  1.93093093,  1.93693694,  1.94294294,  1.94894895,\n",
       "        1.95495495,  1.96096096,  1.96696697,  1.97297297,  1.97897898,\n",
       "        1.98498498,  1.99099099,  1.996997  ,  2.003003  ,  2.00900901,\n",
       "        2.01501502,  2.02102102,  2.02702703,  2.03303303,  2.03903904,\n",
       "        2.04504505,  2.05105105,  2.05705706,  2.06306306,  2.06906907,\n",
       "        2.07507508,  2.08108108,  2.08708709,  2.09309309,  2.0990991 ,\n",
       "        2.10510511,  2.11111111,  2.11711712,  2.12312312,  2.12912913,\n",
       "        2.13513514,  2.14114114,  2.14714715,  2.15315315,  2.15915916,\n",
       "        2.16516517,  2.17117117,  2.17717718,  2.18318318,  2.18918919,\n",
       "        2.1951952 ,  2.2012012 ,  2.20720721,  2.21321321,  2.21921922,\n",
       "        2.22522523,  2.23123123,  2.23723724,  2.24324324,  2.24924925,\n",
       "        2.25525526,  2.26126126,  2.26726727,  2.27327327,  2.27927928,\n",
       "        2.28528529,  2.29129129,  2.2972973 ,  2.3033033 ,  2.30930931,\n",
       "        2.31531532,  2.32132132,  2.32732733,  2.33333333,  2.33933934,\n",
       "        2.34534535,  2.35135135,  2.35735736,  2.36336336,  2.36936937,\n",
       "        2.37537538,  2.38138138,  2.38738739,  2.39339339,  2.3993994 ,\n",
       "        2.40540541,  2.41141141,  2.41741742,  2.42342342,  2.42942943,\n",
       "        2.43543544,  2.44144144,  2.44744745,  2.45345345,  2.45945946,\n",
       "        2.46546547,  2.47147147,  2.47747748,  2.48348348,  2.48948949,\n",
       "        2.4954955 ,  2.5015015 ,  2.50750751,  2.51351351,  2.51951952,\n",
       "        2.52552553,  2.53153153,  2.53753754,  2.54354354,  2.54954955,\n",
       "        2.55555556,  2.56156156,  2.56756757,  2.57357357,  2.57957958,\n",
       "        2.58558559,  2.59159159,  2.5975976 ,  2.6036036 ,  2.60960961,\n",
       "        2.61561562,  2.62162162,  2.62762763,  2.63363363,  2.63963964,\n",
       "        2.64564565,  2.65165165,  2.65765766,  2.66366366,  2.66966967,\n",
       "        2.67567568,  2.68168168,  2.68768769,  2.69369369,  2.6996997 ,\n",
       "        2.70570571,  2.71171171,  2.71771772,  2.72372372,  2.72972973,\n",
       "        2.73573574,  2.74174174,  2.74774775,  2.75375375,  2.75975976,\n",
       "        2.76576577,  2.77177177,  2.77777778,  2.78378378,  2.78978979,\n",
       "        2.7957958 ,  2.8018018 ,  2.80780781,  2.81381381,  2.81981982,\n",
       "        2.82582583,  2.83183183,  2.83783784,  2.84384384,  2.84984985,\n",
       "        2.85585586,  2.86186186,  2.86786787,  2.87387387,  2.87987988,\n",
       "        2.88588589,  2.89189189,  2.8978979 ,  2.9039039 ,  2.90990991,\n",
       "        2.91591592,  2.92192192,  2.92792793,  2.93393393,  2.93993994,\n",
       "        2.94594595,  2.95195195,  2.95795796,  2.96396396,  2.96996997,\n",
       "        2.97597598,  2.98198198,  2.98798799,  2.99399399,  3.        ])"
      ]
     },
     "execution_count": 15,
     "metadata": {},
     "output_type": "execute_result"
    }
   ],
   "source": [
    "import numpy as np\n",
    "np.linspace(-3,3,1000)\n",
    "#linspace(start, end, num) -> start부터 end까지 num개만큼 등분할하여 배열 만들어줌\n",
    "#reshape는 배열의 모양 변경할때\n",
    "#reshape인자의 -1은 알아서 갯수 맞춰서 나타내달라는 의미\n",
    "#예를들어 12개 인자를 reshape(-1,2)하면 (6,2)로되고, (-1,3)하면 (4,3)이됨"
   ]
  },
  {
   "cell_type": "code",
   "execution_count": 21,
   "metadata": {
    "scrolled": false
   },
   "outputs": [
    {
     "data": {
      "image/png": "[encoded data removed]",
      "text/plain": [
       "<Figure size 1080x288 with 3 Axes>"
      ]
     },
     "metadata": {
      "needs_background": "light"
     },
     "output_type": "display_data"
    }
   ],
   "source": [
    "import matplotlib.pyplot as plt\n",
    "import numpy as np\n",
    "from sklearn.neighbors import KNeighborsRegressor\n",
    "import mglearn\n",
    "from sklearn.model_selection import train_test_split\n",
    "\n",
    "X,y = mglearn.datasets.make_wave(n_samples=40)\n",
    "X_train, X_test, y_train, y_test = train_test_split(X,y,random_state=0)\n",
    "\n",
    "fig, axes = plt.subplots(1,3,figsize=(15,4))\n",
    "line = np.linspace(-3,3,1000).reshape(-1,1)\n",
    "for n_neighbors, ax in zip([1,3,9],axes):\n",
    "    reg = KNeighborsRegressor(n_neighbors=n_neighbors)\n",
    "    reg.fit(X_train,y_train)\n",
    "    ax.plot(line,reg.predict(line))\n",
    "    ax.plot(X_train, y_train,'^',c=mglearn.cm2(0),markersize=8)\n",
    "    ax.plot(X_test, y_test, 'v',c=mglearn.cm2(1),markersize=8)\n",
    "    ax.set_title(\"{} neighbors train score:{:.2f} test score:{:.2f}\"\\\n",
    "                 .format(n_neighbors,reg.score(X_train,y_train),reg.score(X_test,y_test)))\n",
    "    ax.set_xlabel(\"feature\")\n",
    "    ax.set_ylabel(\"target\")\n",
    "    "
   ]
  },
  {
   "cell_type": "code",
   "execution_count": null,
   "metadata": {},
   "outputs": [],
   "source": []
  }
 ],
 "metadata": {
  "kernelspec": {
   "display_name": "Python 3",
   "language": "python",
   "name": "python3"
  },
  "language_info": {
   "codemirror_mode": {
    "name": "ipython",
    "version": 3
   },
   "file_extension": ".py",
   "mimetype": "text/x-python",
   "name": "python",
   "nbconvert_exporter": "python",
   "pygments_lexer": "ipython3",
   "version": "3.7.3"
  }
 },
 "nbformat": 4,
 "nbformat_minor": 2
}
