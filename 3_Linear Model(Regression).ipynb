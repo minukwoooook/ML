{
 "cells": [
  {
   "cell_type": "markdown",
   "metadata": {},
   "source": [
    "# 선형모델\n",
    "- 입력 특성에 대한 선형 함수를 만들어서 예측을 수행\n",
    "\n",
    "1) 회귀 선형모델\n",
    "- y ̂=w[0]x[0]+w[1]x[1]+⋯+w[p]x[p]+b\n",
    "- x[0]~x[p] : 하나의 데이터 포인트에 대한 특성\n",
    "- w, b : 모델이 학습할 파라미터 y ̂  : 모델의 예측 값\n",
    "- 타깃 y가 특성 x의 선형 조합이라는 것은 과도한 가정일 수 있으나, 특성이 많은 데이터셋에서는 선형 모델은 매우 훌륭한 성능을 낸다.\n",
    "\n",
    "    1-1) 선형 회귀(linear regression) or 최소 제곱법 (ordinary least square)\n",
    "    - 예측과 훈련 세트에 있는 타깃 y 사이의 평균제곱오차를 최소화하는 w,b를 찾는 것\n",
    "    - 복잡도를 제어할 수 없음.\n",
    "    \n",
    "  1-2) 리지(Ridge)회귀\n",
    "    - 가중치(w)의 모든 원소가 0에 가깝게 되도록.\n",
    "    - 특성이 출력이 주는 영향을 최소화\n",
    "    - L2 규제를 사용\n",
    "    - alpha(default=1.0)값 조정을 통해 규제 조절 가능\n",
    "    - alpha값 증가 -> 계수를 더 0에 가깝게 만든다 -> 더 일반화\n",
    "    \n",
    "  1-3) 라소(Lasso)회귀\n",
    "    - L1 규제 사용\n",
    "    - 계수가 실제로 0이 되는 경우도 있음.(모델에서 제외)"
   ]
  },
  {
   "cell_type": "code",
   "execution_count": 18,
   "metadata": {},
   "outputs": [],
   "source": [
    "from sklearn.linear_model import LinearRegression\n",
    "from sklearn.model_selection import train_test_split\n",
    "import matplotlib.pyplot as plt\n",
    "import mglearn\n",
    "X, y = mglearn.datasets.make_wave(n_samples=60)\n",
    "X_train, X_test, y_train, y_test = train_test_split(X,y,random_state=42)\n",
    "\n",
    "lr = LinearRegression().fit(X_train,y_train)"
   ]
  },
  {
   "cell_type": "code",
   "execution_count": 3,
   "metadata": {},
   "outputs": [
    {
     "name": "stdout",
     "output_type": "stream",
     "text": [
      "lr.coef_: [0.39390555]\n",
      "lr.intercept_ -0.031804343026759746\n"
     ]
    }
   ],
   "source": [
    "print(\"lr.coef_:\",lr.coef_)\n",
    "print(\"lr.intercept_\",lr.intercept_)"
   ]
  },
  {
   "cell_type": "code",
   "execution_count": 5,
   "metadata": {},
   "outputs": [
    {
     "name": "stdout",
     "output_type": "stream",
     "text": [
      "train set score:0.67\n",
      "test set score:0.66\n"
     ]
    }
   ],
   "source": [
    "print(\"train set score:{:.2f}\".format(lr.score(X_train,y_train)))\n",
    "print(\"test set score:{:.2f}\".format(lr.score(X_test,y_test)))\n",
    "# train set 과 test set의 score 가 비슷\n",
    "# 과소적합 상태임. 특성이 1가지이기 때문에 과대적합 걱정할 필요 없음"
   ]
  },
  {
   "cell_type": "code",
   "execution_count": 29,
   "metadata": {},
   "outputs": [],
   "source": [
    "# 보스턴 주택 가격(특성 104개) 이용해서 test해보기\n",
    "X, y = mglearn.datasets.load_extended_boston()\n",
    "X_train, X_test, y_train, y_test = train_test_split(X,y,random_state=0)\n",
    "lr = LinearRegression().fit(X_train,y_train)"
   ]
  },
  {
   "cell_type": "code",
   "execution_count": 8,
   "metadata": {},
   "outputs": [
    {
     "name": "stdout",
     "output_type": "stream",
     "text": [
      "train set score:0.95\n",
      "test set score:0.61\n"
     ]
    }
   ],
   "source": [
    "print(\"train set score:{:.2f}\".format(lr.score(X_train,y_train)))\n",
    "print(\"test set score:{:.2f}\".format(lr.score(X_test,y_test)))\n",
    "# 과대적합 상태임을 알 수 있음"
   ]
  },
  {
   "cell_type": "markdown",
   "metadata": {},
   "source": [
    "리지회귀 예제"
   ]
  },
  {
   "cell_type": "code",
   "execution_count": 10,
   "metadata": {},
   "outputs": [
    {
     "name": "stdout",
     "output_type": "stream",
     "text": [
      "train set score:0.89\n",
      "test set score:0.75\n"
     ]
    }
   ],
   "source": [
    "from sklearn.linear_model import Ridge\n",
    "ridge = Ridge().fit(X_train,y_train)\n",
    "print(\"train set score:{:.2f}\".format(ridge.score(X_train,y_train)))\n",
    "print(\"test set score:{:.2f}\".format(ridge.score(X_test,y_test)))\n",
    "# 위 최소 제곱법에 비해 test set score가 높게 측정된다. 특성 제한을 통해 더 일반화된 모델이 됨"
   ]
  },
  {
   "cell_type": "code",
   "execution_count": 15,
   "metadata": {},
   "outputs": [
    {
     "name": "stdout",
     "output_type": "stream",
     "text": [
      "train set score:0.79\n",
      "test set score:0.64\n",
      "ridge10 coef: [-8.11609631e-01  6.47608896e-01 -8.09783229e-01  3.11334709e-01\n",
      " -6.84623747e-01  4.38797575e+00 -1.47554474e-01 -2.44214065e+00\n",
      "  8.45915099e-01 -1.14727508e+00 -2.33162040e+00  1.06787015e+00\n",
      " -3.98391025e+00 -5.98636976e-01  2.93228193e-03 -5.21253823e-01\n",
      "  1.40339673e-01 -6.45256057e-01 -7.61400539e-01 -7.47231171e-01\n",
      " -3.86298005e-02 -8.29808059e-01 -7.52859756e-01 -6.75605899e-01\n",
      " -8.72001488e-01 -3.23330640e-01  1.27336327e+00 -3.37279550e-01\n",
      "  6.30682038e-02  2.37092897e-01  2.09805607e+00  1.00996768e-01\n",
      " -2.79529662e-01  1.73222619e-01 -3.33557850e-01 -3.74226653e-01\n",
      "  6.98414808e-01 -6.96284918e-01  7.79521010e-01  3.74843210e-01\n",
      " -6.24101244e-01 -7.63657605e-01  4.35756439e-02 -1.04000852e+00\n",
      "  4.24401576e-01  4.78687021e-01 -3.84125445e-01 -9.93802653e-02\n",
      " -1.30226356e+00  3.11334709e-01 -5.92097637e-01  6.33816542e-01\n",
      "  6.66792895e-01 -1.27959944e-01  1.35346930e+00  1.09839246e+00\n",
      "  6.37100148e-01  4.76402917e-01 -9.70121915e-01 -1.43819286e+00\n",
      " -6.91866218e-02 -9.29335512e-01 -4.55299563e-01 -6.56129378e-01\n",
      " -9.31180916e-01 -1.17260753e+00  3.35509026e-01 -1.76546423e+00\n",
      "  7.02804084e+00  1.51765506e+00  3.90833563e-01 -1.21723366e+00\n",
      " -1.86718575e+00 -1.36105591e+00  5.46323332e+00 -2.89652146e+00\n",
      "  1.26693013e-01 -1.48311656e+00  5.35392087e-01 -4.89624715e-01\n",
      " -1.62979525e+00  6.13665753e-01 -2.98786893e+00 -1.27807033e+00\n",
      " -2.83056586e-01 -1.03432949e+00 -1.69293338e+00 -2.26352788e+00\n",
      " -1.33076511e+00  9.26721453e-01  6.27047921e-01  2.35007586e-01\n",
      "  1.33438639e+00 -1.88410183e+00  3.92630676e-01 -4.42694598e-01\n",
      " -4.54914088e-01 -2.05668359e+00 -1.49547766e+00 -1.76954962e+00\n",
      " -2.03637103e+00  1.07984916e+00 -3.95264092e+00  1.42448967e-01]\n",
      "train set score:0.93\n",
      "test set score:0.77\n",
      "ridge01 coef: [-2.33300720e+00 -5.44192850e+00 -6.12865463e+00 -7.78524693e-01\n",
      "  1.29152995e+00  1.90222839e+01  4.35864731e+00 -1.11911067e+01\n",
      "  9.55539672e+00 -7.48671406e-01 -5.33307088e-01  6.23384946e+00\n",
      " -2.72886731e+00  5.86117121e+00  2.28233711e-02 -9.01608311e-01\n",
      "  4.66756441e+00 -3.37983354e+00  1.31611460e+00 -3.48895554e+00\n",
      "  4.41536215e-01 -3.51941085e+00 -2.52222659e+00 -2.69562070e+00\n",
      "  2.44649480e-01 -1.02306604e+00  3.04223584e+00 -2.68804128e+00\n",
      "  4.28396019e+00 -2.94109311e+00  8.70934702e+00 -3.13683472e+00\n",
      " -2.91608183e-01  2.17487375e+00  3.62658111e+00  2.30047840e+00\n",
      " -2.83789461e+00 -6.17207969e+00  7.94858912e+00  1.65631996e+00\n",
      "  8.72779643e+00  1.08042552e+00  5.72208008e+00 -4.76401068e+00\n",
      "  5.07461001e+00  8.01603635e+00 -8.44254041e+00 -6.44526450e-01\n",
      " -1.42288399e+01 -7.78524693e-01 -1.38982595e+01 -1.59298479e+01\n",
      "  6.42600904e+00 -1.85273659e+00  6.37949850e+00  4.03122648e+00\n",
      " -9.48053011e-01  1.11134392e+01 -6.97597662e+00 -6.71608608e-01\n",
      " -2.57821560e+00 -6.75682968e+00 -6.64502320e-01 -6.51766291e+00\n",
      " -1.39428124e+00 -5.01222387e+00  4.95142754e-01  4.28518263e+00\n",
      "  2.07929059e+01 -8.25633566e+00  4.23355958e+00 -1.42148213e+01\n",
      " -1.50040331e+01 -1.81482746e+01  1.29863847e+01 -7.81521793e+00\n",
      "  4.17140075e-02  2.98000026e+00  1.11635112e+01 -3.15698906e+00\n",
      " -3.38217977e-02 -4.16581719e+00 -1.16026109e+01  1.06340583e+01\n",
      "  3.69989958e+00  2.57472915e+00 -4.90940106e-01 -1.25359509e+01\n",
      "  4.66411178e+00 -4.68023584e+00  4.82063467e+00  3.90895995e+00\n",
      " -2.35620652e+00 -1.28782370e+01 -7.79203331e-01  8.56450892e+00\n",
      " -2.85003291e+00 -1.34581797e+01  3.82432768e+00 -5.59661786e-01\n",
      "  4.94747863e+00  2.66776499e+00 -6.90762636e+00  2.42585962e+01]\n"
     ]
    }
   ],
   "source": [
    "# alpha 값 조정\n",
    "ridge10 = Ridge(alpha=10).fit(X_train, y_train)\n",
    "print(\"train set score:{:.2f}\".format(ridge10.score(X_train,y_train)))\n",
    "print(\"test set score:{:.2f}\".format(ridge10.score(X_test,y_test)))\n",
    "print(\"ridge10 coef:\",ridge10.coef_)\n",
    "ridge01 = Ridge(alpha=0.1).fit(X_train, y_train)\n",
    "print(\"train set score:{:.2f}\".format(ridge01.score(X_train,y_train)))\n",
    "print(\"test set score:{:.2f}\".format(ridge01.score(X_test,y_test)))\n",
    "print(\"ridge01 coef:\",ridge01.coef_)"
   ]
  },
  {
   "cell_type": "code",
   "execution_count": 30,
   "metadata": {},
   "outputs": [
    {
     "data": {
      "text/plain": [
       "<matplotlib.legend.Legend at 0x1b3bc44af28>"
      ]
     },
     "execution_count": 30,
     "metadata": {},
     "output_type": "execute_result"
    },
    {
     "data": {
      "image/png": "[encoded data removed]",
      "text/plain": [
       "<Figure size 432x288 with 1 Axes>"
      ]
     },
     "metadata": {
      "needs_background": "light"
     },
     "output_type": "display_data"
    }
   ],
   "source": [
    "plt.plot(ridge10.coef_,'^',label = 'Ridge alpha=10')\n",
    "plt.plot(ridge.coef_,'s',label = 'Ridge alpha=1')\n",
    "plt.plot(ridge01.coef_,'v',label = 'Ridge alpha=0.1')\n",
    "\n",
    "plt.plot(lr.coef_,'o', label = 'LinearRegression')\n",
    "plt.xlabel('coef list')\n",
    "plt.ylabel('coef size')\n",
    "xlims = plt.xlim()\n",
    "plt.hlines(0,xlims[0], xlims[1])\n",
    "plt.ylim(-25,25)\n",
    "plt.legend()"
   ]
  },
  {
   "cell_type": "markdown",
   "metadata": {},
   "source": [
    "라소 회귀 예제"
   ]
  },
  {
   "cell_type": "code",
   "execution_count": 32,
   "metadata": {},
   "outputs": [
    {
     "name": "stdout",
     "output_type": "stream",
     "text": [
      "train set score:0.29\n",
      "test set score:0.21\n",
      "num of used coef: 4\n"
     ]
    }
   ],
   "source": [
    "from sklearn.linear_model import Lasso\n",
    "import numpy as np\n",
    "lasso = Lasso().fit(X_train, y_train)\n",
    "print(\"train set score:{:.2f}\".format(lasso.score(X_train,y_train)))\n",
    "print(\"test set score:{:.2f}\".format(lasso.score(X_test,y_test)))\n",
    "print(\"num of used coef:\",np.sum(lasso.coef_ != 0))"
   ]
  },
  {
   "cell_type": "code",
   "execution_count": 35,
   "metadata": {},
   "outputs": [
    {
     "name": "stdout",
     "output_type": "stream",
     "text": [
      "train set score:0.90\n",
      "test set score:0.77\n",
      "num of used coef: 33\n"
     ]
    }
   ],
   "source": [
    "lasso001 = Lasso(alpha = 0.01, max_iter=100000).fit(X_train,y_train)\n",
    "print(\"train set score:{:.2f}\".format(lasso001.score(X_train,y_train)))\n",
    "print(\"test set score:{:.2f}\".format(lasso001.score(X_test,y_test)))\n",
    "print(\"num of used coef:\",np.sum(lasso001.coef_ != 0))"
   ]
  },
  {
   "cell_type": "code",
   "execution_count": null,
   "metadata": {},
   "outputs": [],
   "source": []
  }
 ],
 "metadata": {
  "kernelspec": {
   "display_name": "Python 3",
   "language": "python",
   "name": "python3"
  },
  "language_info": {
   "codemirror_mode": {
    "name": "ipython",
    "version": 3
   },
   "file_extension": ".py",
   "mimetype": "text/x-python",
   "name": "python",
   "nbconvert_exporter": "python",
   "pygments_lexer": "ipython3",
   "version": "3.7.3"
  }
 },
 "nbformat": 4,
 "nbformat_minor": 2
}
